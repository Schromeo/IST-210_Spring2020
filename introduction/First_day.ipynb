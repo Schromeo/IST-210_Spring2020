{
  "nbformat": 4,
  "nbformat_minor": 0,
  "metadata": {
    "colab": {
      "name": "First day",
      "provenance": [],
      "toc_visible": true,
      "authorship_tag": "ABX9TyPx/F2JknLdI06bxT6Kz0Oh",
      "include_colab_link": true
    },
    "kernelspec": {
      "name": "python3",
      "display_name": "Python 3"
    }
  },
  "cells": [
    {
      "cell_type": "markdown",
      "metadata": {
        "id": "view-in-github",
        "colab_type": "text"
      },
      "source": [
        "<a href=\"https://colab.research.google.com/github/Schromeo/IST-210_Spring2020/blob/master/introduction/First_day.ipynb\" target=\"_parent\"><img src=\"https://colab.research.google.com/assets/colab-badge.svg\" alt=\"Open In Colab\"/></a>"
      ]
    },
    {
      "cell_type": "code",
      "metadata": {
        "id": "kwf2AK0DzZax",
        "colab_type": "code",
        "colab": {
          "base_uri": "https://localhost:8080/",
          "height": 34
        },
        "outputId": "8732fdcc-cfb0-4a55-9754-257d6022e072"
      },
      "source": [
        "2+2"
      ],
      "execution_count": 3,
      "outputs": [
        {
          "output_type": "execute_result",
          "data": {
            "text/plain": [
              "4"
            ]
          },
          "metadata": {
            "tags": []
          },
          "execution_count": 3
        }
      ]
    },
    {
      "cell_type": "markdown",
      "metadata": {
        "id": "gj3t4vZEz-JU",
        "colab_type": "text"
      },
      "source": [
        "This is my first notebook!"
      ]
    },
    {
      "cell_type": "code",
      "metadata": {
        "id": "BhY8OkCKzvTj",
        "colab_type": "code",
        "colab": {
          "base_uri": "https://localhost:8080/",
          "height": 34
        },
        "outputId": "d85e27e6-e970-4d89-ce69-321d917f62e7"
      },
      "source": [
        "2+3"
      ],
      "execution_count": 4,
      "outputs": [
        {
          "output_type": "execute_result",
          "data": {
            "text/plain": [
              "5"
            ]
          },
          "metadata": {
            "tags": []
          },
          "execution_count": 4
        }
      ]
    },
    {
      "cell_type": "markdown",
      "metadata": {
        "id": "7V_YFXFj0P8f",
        "colab_type": "text"
      },
      "source": [
        "This is **Bold**"
      ]
    },
    {
      "cell_type": "markdown",
      "metadata": {
        "id": "DdXQXCo-0ym6",
        "colab_type": "text"
      },
      "source": [
        "###This is a header\n"
      ]
    },
    {
      "cell_type": "markdown",
      "metadata": {
        "id": "evuuIplr4Jj7",
        "colab_type": "text"
      },
      "source": [
        "![替代文字](https://raw.githubusercontent.com/Schromeo/IST-210_Spring2020/master/introduction/images.jpg)"
      ]
    }
  ]
}