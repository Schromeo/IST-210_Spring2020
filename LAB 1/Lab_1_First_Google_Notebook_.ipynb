{
  "nbformat": 4,
  "nbformat_minor": 0,
  "metadata": {
    "colab": {
      "name": "Lab 1 - First Google Notebook .ipynb",
      "provenance": [],
      "toc_visible": true,
      "authorship_tag": "ABX9TyNAGDtfFqrtdq2hBWD6gxkA",
      "include_colab_link": true
    },
    "kernelspec": {
      "name": "python3",
      "display_name": "Python 3"
    }
  },
  "cells": [
    {
      "cell_type": "markdown",
      "metadata": {
        "id": "view-in-github",
        "colab_type": "text"
      },
      "source": [
        "<a href=\"https://colab.research.google.com/github/Schromeo/IST-210_Spring2020/blob/master/LAB%201/Lab_1_First_Google_Notebook_.ipynb\" target=\"_parent\"><img src=\"https://colab.research.google.com/assets/colab-badge.svg\" alt=\"Open In Colab\"/></a>"
      ]
    },
    {
      "cell_type": "markdown",
      "metadata": {
        "id": "u1JqVE-tMKj8",
        "colab_type": "text"
      },
      "source": [
        "###My name"
      ]
    },
    {
      "cell_type": "markdown",
      "metadata": {
        "id": "y-9sQoNkNK-l",
        "colab_type": "text"
      },
      "source": [
        "Yisong Cheng"
      ]
    },
    {
      "cell_type": "markdown",
      "metadata": {
        "id": "HbtiHCZdM0OP",
        "colab_type": "text"
      },
      "source": [
        "###My IST related interests"
      ]
    },
    {
      "cell_type": "markdown",
      "metadata": {
        "id": "t-ijS30zNOU5",
        "colab_type": "text"
      },
      "source": [
        "I like to read books about information science. Also, I love to play games about hacker simulator (HACKNET)."
      ]
    },
    {
      "cell_type": "markdown",
      "metadata": {
        "id": "4nK1yO9QM-sw",
        "colab_type": "text"
      },
      "source": [
        "###My future job/career"
      ]
    },
    {
      "cell_type": "markdown",
      "metadata": {
        "id": "E82EnMOYN7T5",
        "colab_type": "text"
      },
      "source": [
        "I think I will work for some computer companies in the future and start a business in the next few years."
      ]
    },
    {
      "cell_type": "markdown",
      "metadata": {
        "id": "gBoM-ZHiP6H4",
        "colab_type": "text"
      },
      "source": [
        "###A picture of me"
      ]
    },
    {
      "cell_type": "markdown",
      "metadata": {
        "id": "fpARYoPmQCsC",
        "colab_type": "text"
      },
      "source": [
        "![替代文字](https://raw.githubusercontent.com/Schromeo/IST-210_Spring2020/master/LAB-Assignments/LAB%201/Self_image.jpg)# This is a picture of me (Dec 23, 2019)"
      ]
    }
  ]
}