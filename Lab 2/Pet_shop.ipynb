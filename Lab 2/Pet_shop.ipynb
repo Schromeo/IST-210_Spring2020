{
  "nbformat": 4,
  "nbformat_minor": 0,
  "metadata": {
    "colab": {
      "name": "Pet shop.ipynb",
      "provenance": [],
      "toc_visible": true,
      "authorship_tag": "ABX9TyOzDmFTIempiCzr1Tl7H2wm",
      "include_colab_link": true
    },
    "kernelspec": {
      "name": "python3",
      "display_name": "Python 3"
    }
  },
  "cells": [
    {
      "cell_type": "markdown",
      "metadata": {
        "id": "view-in-github",
        "colab_type": "text"
      },
      "source": [
        "<a href=\"https://colab.research.google.com/github/Schromeo/IST-210_Spring2020/blob/master/Lab%202/Pet_shop.ipynb\" target=\"_parent\"><img src=\"https://colab.research.google.com/assets/colab-badge.svg\" alt=\"Open In Colab\"/></a>"
      ]
    },
    {
      "cell_type": "markdown",
      "metadata": {
        "id": "5Khj2Dn3C2K_",
        "colab_type": "text"
      },
      "source": [
        "#  Pet Shop"
      ]
    },
    {
      "cell_type": "markdown",
      "metadata": {
        "id": "8ABHySVRDHGg",
        "colab_type": "text"
      },
      "source": [
        "### **Tables**"
      ]
    },
    {
      "cell_type": "markdown",
      "metadata": {
        "id": "HrE4FK0pDNsm",
        "colab_type": "text"
      },
      "source": [
        "#### Customers"
      ]
    },
    {
      "cell_type": "markdown",
      "metadata": {
        "id": "GAAegtG4Dm7E",
        "colab_type": "text"
      },
      "source": [
        "  This table has the information about all customers who bought at least once or was registered into the system. Their information would include their loyolty ID, their first and last name, their phone number and their local address."
      ]
    },
    {
      "cell_type": "markdown",
      "metadata": {
        "id": "dckIGpU9EOvE",
        "colab_type": "text"
      },
      "source": [
        "#### Employees"
      ]
    },
    {
      "cell_type": "markdown",
      "metadata": {
        "id": "1e4PQiL5EWd4",
        "colab_type": "text"
      },
      "source": [
        "This table contains the information about all the hired employees in this pet shop. First, their employee ID would be in this table. Other information would include their first and last name, their job type (like different position), their phone numbers, and their different salaries.  "
      ]
    },
    {
      "cell_type": "markdown",
      "metadata": {
        "id": "BWldnUmeFFuH",
        "colab_type": "text"
      },
      "source": [
        "#### pets"
      ]
    },
    {
      "cell_type": "markdown",
      "metadata": {
        "id": "R7uORupfFKcI",
        "colab_type": "text"
      },
      "source": [
        "This table has the information about all the pets that selling from this pet shop. Informations includes unique pets ID, and their breed, age, prices, and their date of birth."
      ]
    },
    {
      "cell_type": "markdown",
      "metadata": {
        "id": "L-HWVusIF1m7",
        "colab_type": "text"
      },
      "source": [
        "#### enclourse"
      ]
    },
    {
      "cell_type": "markdown",
      "metadata": {
        "id": "3Wf4l2OgF8Rt",
        "colab_type": "text"
      },
      "source": [
        "This table contains the information about enlourse products that this pet shop selling, for example, the cages, travel bags, and customers' loyalty ID from who bought them."
      ]
    },
    {
      "cell_type": "markdown",
      "metadata": {
        "id": "hWz1nMOsGkpi",
        "colab_type": "text"
      },
      "source": [
        "#### purchases"
      ]
    },
    {
      "cell_type": "markdown",
      "metadata": {
        "id": "gDQhwTNNGnz-",
        "colab_type": "text"
      },
      "source": [
        "This table has the information about every order that happened in this store. It includes Order ID, customer's loyalty ID, employees ID, and the dates of the order. In this case, we can get any order information from order ID or customer ID or searching by the order date and employees' ID. "
      ]
    },
    {
      "cell_type": "markdown",
      "metadata": {
        "id": "aO-OpwjvHOKu",
        "colab_type": "text"
      },
      "source": [
        "#### Pet transcation"
      ]
    },
    {
      "cell_type": "markdown",
      "metadata": {
        "id": "VFAQafmVI2o9",
        "colab_type": "text"
      },
      "source": [
        "This table has the records of transcation of pets in this pet shop, such as customer's Loyalty ID, pets ID, employees' ID, product ID(if someone also buy a special enclousure for his pet), and the dates and price of this transcation."
      ]
    },
    {
      "cell_type": "markdown",
      "metadata": {
        "id": "X6chqcizJ5Iy",
        "colab_type": "text"
      },
      "source": [
        "### **Entity Relation Diagram**"
      ]
    },
    {
      "cell_type": "markdown",
      "metadata": {
        "id": "kgAu2gHqOGse",
        "colab_type": "text"
      },
      "source": [
        "[This is the entity relation diagram of the tables that I displayed above, including their relationships.] ![替代文字](https://raw.githubusercontent.com/Schromeo/IST-210_Spring2020/master/LAB2%20Pet%20shop/ERD.jpg)"
      ]
    }
  ]
}